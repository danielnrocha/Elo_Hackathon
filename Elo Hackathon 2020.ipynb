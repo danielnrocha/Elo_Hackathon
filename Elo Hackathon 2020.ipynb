{
 "cells": [
  {
   "cell_type": "markdown",
   "metadata": {},
   "source": [
    "## Elo Hackathon 2020\n",
    "### Union Squad –  Daniel Rocha, Letícia Fiorito, Everton Arruda, Juliana Lima\n",
    "Ideia central: Oferta de cashback por BOT de WhatsApp, SMS ou comando de voz. Ex. “pizza”, e o app mostra opções ao redor (com geocoding) de pizzarias que oferecem cashback para pagamentos com ELO.\n",
    "\n",
    "Ideia complementar: BOT capta dados de georeferenciamento para dar sugestões e personalizar a oferta de cashback. Dessa forma, é mapeado a territorialidade percorrida pelo consumidor para sugerir cashback em serviços próximos aos locais de trânsito.\n",
    "\n",
    "Crescimento inicial inorgânico: (isenção de taxas, redução de tarifas) para incentivar aceitação de pagamentos digitais pelo comércio. Após adesão de comerciantes, a contrapartida seria o direcionamento de novos clientes (incentivados pelo cashback) ao estabelecimento, de modo que o restaurante teria que arcar com os custos de manter o cashback (ou optar por cessá-lo).\n",
    "\n",
    "Cultura cashless: pagamento com QR Code (ex. comanda na pizzaria vem com QR code)."
   ]
  },
  {
   "cell_type": "markdown",
   "metadata": {},
   "source": [
    "### Importando bibliotecas e fazendo ajustes visuais"
   ]
  },
  {
   "cell_type": "code",
   "execution_count": 1,
   "metadata": {},
   "outputs": [],
   "source": [
    "import pandas as pd\n",
    "import numpy as np\n",
    "import seaborn as sns\n",
    "import palettable\n",
    "import matplotlib.pyplot as plt\n",
    "%matplotlib inline\n",
    "from jupyterthemes import jtplot\n",
    "jtplot.style(theme='monokai', context='notebook', ticks=True, grid=False)"
   ]
  },
  {
   "cell_type": "code",
   "execution_count": 2,
   "metadata": {},
   "outputs": [],
   "source": [
    "for m,n in zip([\"display.max_columns\",\"display.max_rows\"], [None,10]):\n",
    "    pd.set_option(m,n)\n",
    "\n",
    "import matplotlib.style\n",
    "import matplotlib as mpl\n",
    "for m,n in zip(['grid.color','axes.titlecolor','axes.labelcolor','xtick.color','ytick.color','axes.titlesize',\n",
    "    'figure.figsize','legend.framealpha'],['white','white','white','white','white','20.0','13.0, 8.0','0.8']):\n",
    "    mpl.rcParams[m] = n"
   ]
  },
  {
   "cell_type": "markdown",
   "metadata": {},
   "source": [
    "### Importando os dados da API"
   ]
  },
  {
   "cell_type": "code",
   "execution_count": 29,
   "metadata": {},
   "outputs": [
    {
     "name": "stdout",
     "output_type": "stream",
     "text": [
      "Basic b'ZGZkNzJmMjUtOGE5NC0zYmEwLThhMWItNWE0YzBjNzAyNzE4OmQwNWEwOGQ3LTdjZTAtMzZlMC1iYzJiLTU5ZmQ2ZjQ0OThhYQ=='\n"
     ]
    }
   ],
   "source": [
    "import base64\n",
    "client_id = 'dfd72f25-8a94-3ba0-8a1b-5a4c0c702718'\n",
    "client_secret = 'd05a08d7-7ce0-36e0-bc2b-59fd6f4498aa'\n",
    "base64_str = client_id + \":\" + client_secret\n",
    "base64_bytes = base64_str.encode('utf-8')\n",
    "\n",
    "authorization = \"Basic \" + str(base64.b64encode(base64_bytes));\n",
    "print(authorization)"
   ]
  },
  {
   "cell_type": "code",
   "execution_count": 46,
   "metadata": {},
   "outputs": [
    {
     "name": "stderr",
     "output_type": "stream",
     "text": [
      "https://hml-api.elo.com.br/graphql: HTTP Error 401: \n"
     ]
    }
   ],
   "source": [
    "from sgqlc.endpoint.http import HTTPEndpoint\n",
    "\n",
    "url = 'https://hml-api.elo.com.br/graphql'\n",
    "headers = {'Authorization': authorization}\n",
    "\n",
    "query = '''\n",
    "mutation{\n",
    "  createUser(input:{\n",
    "    clientMutationId: \"123\",\n",
    "    username: \"username\",\n",
    "    bcryptPassword: \"$2a$12$oumE.pnRbsdi.c4KYsyNWOJoVyfi2jMKDe102Er5uGCdzd49SvE1Y\",\n",
    "    name: \"name\",\n",
    "    firstName: \"firstName\",\n",
    "    lastName: \"lastName\",\n",
    "        contacts: [{\n",
    "            type: PHONE\n",
    "            context: \"CASA\"\n",
    "            value: \"+5519912345678\"\n",
    "        }]\n",
    "    displayName: \"displayName\",\n",
    "    legalIds:{\n",
    "      cpf: \"1234567890\",\n",
    "      rg:{\n",
    "        number: \"234567890\",\n",
    "        issuerOrganization: \"SSP\",\n",
    "        issuerState: \"SP\",\n",
    "        issueDate: \"2020-12-03\"\n",
    "      }\n",
    "    }\n",
    "    origin: \"Promoção cadastre sua conta Elo\"\n",
    "  })\n",
    "  {\n",
    "    clientMutationId,\n",
    "    id,\n",
    "    name,\n",
    "    oauthToken {\n",
    "      accessToken\n",
    "      refreshToken\n",
    "    }\n",
    "  }\n",
    "}\n",
    "'''\n",
    "\n",
    "endpoint = HTTPEndpoint(url, headers)\n",
    "data = endpoint(query)"
   ]
  },
  {
   "cell_type": "code",
   "execution_count": 53,
   "metadata": {},
   "outputs": [
    {
     "ename": "Exception",
     "evalue": "Query failed to run by returning code of 401",
     "output_type": "error",
     "traceback": [
      "\u001b[0;31m---------------------------------------------------------------------------\u001b[0m",
      "\u001b[0;31mException\u001b[0m                                 Traceback (most recent call last)",
      "\u001b[0;32m<ipython-input-53-435590c84b39>\u001b[0m in \u001b[0;36m<module>\u001b[0;34m\u001b[0m\n\u001b[1;32m     52\u001b[0m }\n\u001b[1;32m     53\u001b[0m '''\n\u001b[0;32m---> 54\u001b[0;31m \u001b[0mresult\u001b[0m \u001b[0;34m=\u001b[0m \u001b[0mrun_query\u001b[0m\u001b[0;34m(\u001b[0m\u001b[0mquery\u001b[0m\u001b[0;34m)\u001b[0m \u001b[0;31m# Execute the query\u001b[0m\u001b[0;34m\u001b[0m\u001b[0;34m\u001b[0m\u001b[0m\n\u001b[0m\u001b[1;32m     55\u001b[0m \u001b[0mremaining_rate_limit\u001b[0m \u001b[0;34m=\u001b[0m \u001b[0mresult\u001b[0m\u001b[0;31m#[\"data\"][\"rateLimit\"][\"remaining\"] # Drill down the dictionary\u001b[0m\u001b[0;34m\u001b[0m\u001b[0;34m\u001b[0m\u001b[0m\n\u001b[1;32m     56\u001b[0m \u001b[0;31m# print(\"Remaining rate limit - {}\".format(remaining_rate_limit))\u001b[0m\u001b[0;34m\u001b[0m\u001b[0;34m\u001b[0m\u001b[0;34m\u001b[0m\u001b[0m\n",
      "\u001b[0;32m<ipython-input-53-435590c84b39>\u001b[0m in \u001b[0;36mrun_query\u001b[0;34m(query)\u001b[0m\n\u001b[1;32m     11\u001b[0m         \u001b[0;32mreturn\u001b[0m \u001b[0mrequest\u001b[0m\u001b[0;34m.\u001b[0m\u001b[0mjson\u001b[0m\u001b[0;34m(\u001b[0m\u001b[0;34m)\u001b[0m\u001b[0;34m\u001b[0m\u001b[0;34m\u001b[0m\u001b[0m\n\u001b[1;32m     12\u001b[0m     \u001b[0;32melse\u001b[0m\u001b[0;34m:\u001b[0m\u001b[0;34m\u001b[0m\u001b[0;34m\u001b[0m\u001b[0m\n\u001b[0;32m---> 13\u001b[0;31m         \u001b[0;32mraise\u001b[0m \u001b[0mException\u001b[0m\u001b[0;34m(\u001b[0m\u001b[0;34m\"Query failed to run by returning code of {}\"\u001b[0m\u001b[0;34m.\u001b[0m\u001b[0mformat\u001b[0m\u001b[0;34m(\u001b[0m\u001b[0mrequest\u001b[0m\u001b[0;34m.\u001b[0m\u001b[0mstatus_code\u001b[0m\u001b[0;34m)\u001b[0m\u001b[0;34m)\u001b[0m\u001b[0;34m\u001b[0m\u001b[0;34m\u001b[0m\u001b[0m\n\u001b[0m\u001b[1;32m     14\u001b[0m \u001b[0;34m\u001b[0m\u001b[0m\n\u001b[1;32m     15\u001b[0m \u001b[0;34m\u001b[0m\u001b[0m\n",
      "\u001b[0;31mException\u001b[0m: Query failed to run by returning code of 401"
     ]
    }
   ],
   "source": [
    "import requests\n",
    "\n",
    "headers = {\"Authorization\": authorization}\n",
    "\n",
    "\n",
    "def run_query(query): # A simple function to use requests.post to make the API call. Note the json= section.\n",
    "    request = requests.post('https://hml-api.elo.com.br/graphql', json={'query': query}, headers=headers)\n",
    "    if request.status_code == 200:\n",
    "        return request.json()\n",
    "    else:\n",
    "        raise Exception(\"Query failed to run by returning code of {}\".format(request.status_code))\n",
    "\n",
    "        \n",
    "# The GraphQL query (with a few aditional bits included) itself defined as a multi-line string.       \n",
    "query = '''\n",
    "mutation{\n",
    "  createUser(input:{\n",
    "    clientMutationId: \"123\",\n",
    "    username: \"username\",\n",
    "    bcryptPassword: \"$2a$12$oumE.pnRbsdi.c4KYsyNWOJoVyfi2jMKDe102Er5uGCdzd49SvE1Y\",\n",
    "    name: \"name\",\n",
    "    firstName: \"firstName\",\n",
    "    lastName: \"lastName\",\n",
    "        contacts: [{\n",
    "            type: PHONE\n",
    "            context: \"CASA\"\n",
    "            value: \"+5519912345678\"\n",
    "        }]\n",
    "    displayName: \"displayName\",\n",
    "    legalIds:{\n",
    "      cpf: \"1234567890\",\n",
    "      rg:{\n",
    "        number: \"234567890\",\n",
    "        issuerOrganization: \"SSP\",\n",
    "        issuerState: \"SP\",\n",
    "        issueDate: \"2020-12-03\"\n",
    "      }\n",
    "    }\n",
    "    origin: \"Promoção cadastre sua conta Elo\"\n",
    "  })\n",
    "  {\n",
    "    clientMutationId,\n",
    "    id,\n",
    "    name,\n",
    "    oauthToken {\n",
    "      accessToken\n",
    "      refreshToken\n",
    "    }\n",
    "  }\n",
    "}\n",
    "'''\n",
    "result = run_query(query) # Execute the query\n",
    "remaining_rate_limit = result#[\"data\"][\"rateLimit\"][\"remaining\"] # Drill down the dictionary\n",
    "# print(\"Remaining rate limit - {}\".format(remaining_rate_limit))"
   ]
  }
 ],
 "metadata": {
  "kernelspec": {
   "display_name": "Python 3",
   "language": "python",
   "name": "python3"
  },
  "language_info": {
   "codemirror_mode": {
    "name": "ipython",
    "version": 3
   },
   "file_extension": ".py",
   "mimetype": "text/x-python",
   "name": "python",
   "nbconvert_exporter": "python",
   "pygments_lexer": "ipython3",
   "version": "3.7.7"
  }
 },
 "nbformat": 4,
 "nbformat_minor": 4
}
