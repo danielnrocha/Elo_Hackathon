{
 "cells": [
  {
   "cell_type": "markdown",
   "metadata": {},
   "source": [
    "## Elo Hackathon 2020\n",
    "### Union Squad –  Daniel Rocha, Letícia Fiorito, Everton Arruda, Juliana Lima\n",
    "Ideia central: Oferta de cashback por BOT de WhatsApp, SMS ou comando de voz. Ex. “pizza”, e o app mostra opções ao redor (com geocoding) de pizzarias que oferecem cashback para pagamentos com ELO.\n",
    "\n",
    "Ideia complementar: BOT capta dados de georeferenciamento para dar sugestões e personalizar a oferta de cashback. Dessa forma, é mapeado a territorialidade percorrida pelo consumidor para sugerir cashback em serviços próximos aos locais de trânsito.\n",
    "\n",
    "Crescimento inicial inorgânico: (isenção de taxas, redução de tarifas) para incentivar aceitação de pagamentos digitais pelo comércio. Após adesão de comerciantes, a contrapartida seria o direcionamento de novos clientes (incentivados pelo cashback) ao estabelecimento, de modo que o restaurante teria que arcar com os custos de manter o cashback (ou optar por cessá-lo).\n",
    "\n",
    "Cultura cashless: pagamento com QR Code (ex. comanda na pizzaria vem com QR code)."
   ]
  },
  {
   "cell_type": "markdown",
   "metadata": {},
   "source": [
    "### Importando bibliotecas e fazendo ajustes visuais"
   ]
  },
  {
   "cell_type": "code",
   "execution_count": 1,
   "metadata": {},
   "outputs": [],
   "source": [
    "import pandas as pd\n",
    "import numpy as np\n",
    "import seaborn as sns\n",
    "import palettable\n",
    "import matplotlib.pyplot as plt\n",
    "%matplotlib inline\n",
    "from jupyterthemes import jtplot\n",
    "jtplot.style(theme='monokai', context='notebook', ticks=True, grid=False)"
   ]
  },
  {
   "cell_type": "code",
   "execution_count": 2,
   "metadata": {},
   "outputs": [],
   "source": [
    "for m,n in zip([\"display.max_columns\",\"display.max_rows\"], [None,10]):\n",
    "    pd.set_option(m,n)\n",
    "\n",
    "import matplotlib.style\n",
    "import matplotlib as mpl\n",
    "for m,n in zip(['grid.color','axes.titlecolor','axes.labelcolor','xtick.color','ytick.color','axes.titlesize',\n",
    "    'figure.figsize','legend.framealpha'],['white','white','white','white','white','20.0','13.0, 8.0','0.8']):\n",
    "    mpl.rcParams[m] = n"
   ]
  },
  {
   "cell_type": "markdown",
   "metadata": {},
   "source": [
    "### Importando os dados da API"
   ]
  },
  {
   "cell_type": "code",
   "execution_count": null,
   "metadata": {},
   "outputs": [],
   "source": []
  }
 ],
 "metadata": {
  "kernelspec": {
   "display_name": "Python 3",
   "language": "python",
   "name": "python3"
  },
  "language_info": {
   "codemirror_mode": {
    "name": "ipython",
    "version": 3
   },
   "file_extension": ".py",
   "mimetype": "text/x-python",
   "name": "python",
   "nbconvert_exporter": "python",
   "pygments_lexer": "ipython3",
   "version": "3.7.7"
  }
 },
 "nbformat": 4,
 "nbformat_minor": 4
}
